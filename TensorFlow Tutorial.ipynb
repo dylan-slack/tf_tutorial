{
 "cells": [
  {
   "cell_type": "markdown",
   "metadata": {},
   "source": [
    "# Introduction\n",
    "The goal of this notebook is to provide an easy to use guide to learn some of the basics of TensorFlow (TF).  It should correspond to slides posted along with this repo.  Follow along and learn! :) \n",
    "\n",
    "\n",
    "\n",
    "## Installing TensorFlow\n",
    "## (TODO: Before launching this notebook)\n",
    "Installing TF can be a trying process in its own right (ask Emile) — particularly when trying to get it to run on the GPU.  These instructions should work for the lab machines without setting up for GPU use.  If you're trying to install on you're own computer hopefully they work as well.\n",
    "\n",
    "---\n",
    "##### GPU Aside\n",
    "If you're wondering why we might want the GPU, GPU's allow us to perform lots of computations concurrently over many simple cores.  CPU's have a few complex cores.  If our computations are simple enough (which they are in many cases in deep learning, think matrix multiplication), we can let a GPU perform them in parallel.  This saves us *a lot* of time when we're building large models.\n",
    "\n",
    "---\n",
    "\n",
    "We're going to install TF in a virtual environment.  Virtual environments allow us to create different sets of dependencies for different projects; the good news is that if we screw something up trying to install TF in our virtual environment, it shouldn't mess anything else up!\n",
    "\n",
    "First, setup the virtual environment:\n",
    "\n",
    "``` conda create -n tf_tutorial ```\n",
    "\n",
    "You should be in the same directory as the virtual environment. Now:\n",
    "\n",
    "``` source activate tf_tutorial ```\n",
    "\n",
    "Install pip, TF, and another package that will help us manage different jupyter notebook kernels.  This could take a second:\n",
    "\n",
    "``` conda install pip```\n",
    "\n",
    "``` pip install tensorflow ```\n",
    "\n",
    "```conda install nb_conda```\n",
    "\n",
    "Finally, load the notebook:\n",
    "\n",
    "```jupyter notebook```\n",
    "\n",
    "Navigate to this notebook and load it up!  Hopefully it works!"
   ]
  },
  {
   "cell_type": "code",
   "execution_count": 21,
   "metadata": {},
   "outputs": [],
   "source": [
    "import tensorflow as tf\n",
    "## If this fails, try and go back and fix, otherwise you won't have much success going forward"
   ]
  },
  {
   "cell_type": "code",
   "execution_count": null,
   "metadata": {},
   "outputs": [],
   "source": [
    "##\n",
    "# \n",
    "##"
   ]
  },
  {
   "cell_type": "code",
   "execution_count": 12,
   "metadata": {},
   "outputs": [],
   "source": [
    "## Simple graph example \n",
    "x = 13\n",
    "y = 2\n",
    "add = tf.add(x,y)\n",
    "mul = tf.multiply(x,y)\n",
    "output_1 = tf.multiply(add,mul)\n",
    "output_2 = tf.pow(add, y)"
   ]
  },
  {
   "cell_type": "code",
   "execution_count": 13,
   "metadata": {},
   "outputs": [
    {
     "name": "stdout",
     "output_type": "stream",
     "text": [
      "Tensor(\"Mul_9:0\", shape=(), dtype=int32)\n"
     ]
    }
   ],
   "source": [
    "## What happens if we just print the tensor\n",
    "print(output_1)"
   ]
  },
  {
   "cell_type": "code",
   "execution_count": 17,
   "metadata": {},
   "outputs": [
    {
     "name": "stdout",
     "output_type": "stream",
     "text": [
      "390\n"
     ]
    }
   ],
   "source": [
    "## But, what if we include a session\n",
    "with tf.Session() as sess:\n",
    "    correct_output = sess.run(output_1)\n",
    "    print (correct_output)"
   ]
  },
  {
   "cell_type": "code",
   "execution_count": 18,
   "metadata": {},
   "outputs": [
    {
     "name": "stdout",
     "output_type": "stream",
     "text": [
      "225\n"
     ]
    }
   ],
   "source": [
    "## Further, we can also evaluate output_2\n",
    "with tf.Session() as sess:\n",
    "    second_output = sess.run(output_2)\n",
    "    print (second_output)\n",
    "    \n",
    "## Starting to get the idea?"
   ]
  },
  {
   "cell_type": "code",
   "execution_count": 20,
   "metadata": {},
   "outputs": [
    {
     "name": "stdout",
     "output_type": "stream",
     "text": [
      "One: 390 Two: 225\n"
     ]
    }
   ],
   "source": [
    "## Also, this works\n",
    "with tf.Session() as sess:\n",
    "    one,two = sess.run([output_1, output_2])\n",
    "    print (\"One:\",one,\"Two:\",two)"
   ]
  },
  {
   "cell_type": "code",
   "execution_count": null,
   "metadata": {},
   "outputs": [],
   "source": []
  }
 ],
 "metadata": {
  "kernelspec": {
   "display_name": "Python [conda env:tf_tutorial] *",
   "language": "python",
   "name": "conda-env-tf_tutorial-py"
  },
  "language_info": {
   "codemirror_mode": {
    "name": "ipython",
    "version": 3
   },
   "file_extension": ".py",
   "mimetype": "text/x-python",
   "name": "python",
   "nbconvert_exporter": "python",
   "pygments_lexer": "ipython3",
   "version": "3.7.3"
  }
 },
 "nbformat": 4,
 "nbformat_minor": 2
}
