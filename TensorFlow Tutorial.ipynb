{
 "cells": [
  {
   "cell_type": "markdown",
   "metadata": {},
   "source": [
    "# Introduction\n",
    "The goal of this notebook is to provide an easy to use guide to learn some of the basics of TensorFlow (TF).  It should correspond to slides posted along with this repo.  Follow along and learn! :) \n",
    "\n",
    "\n",
    "\n",
    "## Installing TensorFlow\n",
    "## (TODO: Before launching this notebook)\n",
    "Installing TF can be a trying process in its own right (ask Emile) — particularly when trying to get it to run on the GPU.  These instructions should work for the lab machines without setting up for GPU use.  If you're trying to install on you're own computer hopefully they work as well.\n",
    "\n",
    "---\n",
    "##### GPU Aside\n",
    "If you're wondering why we might want the GPU, GPU's allow us to perform lots of computations concurrently over many simple cores.  CPU's have a few complex cores.  If our computations are simple enough (which they are in many cases in deep learning, think matrix multiplication), we can let a GPU perform them in parallel.  This saves us *a lot* of time when we're building large models.\n",
    "\n",
    "---\n",
    "\n",
    "We're going to install TF in a virtual environment.  Virtual environments allow us to create different sets of dependencies for different projects; the good news is that if we screw something up trying to install TF in our virtual environment, it shouldn't mess anything else up!\n",
    "\n",
    "First, setup the virtual environment:\n",
    "\n",
    "``` conda create -n tensorflow_tutorial ```\n",
    "\n",
    "You should be in the same directory as the virtual environment. Now:\n",
    "\n",
    "``` source activate tensorflow_tutorial ```\n",
    "\n",
    "Install TF and another package that will help us manage different jupyter notebook kernels .  This could take a second:\n",
    "\n",
    "``` python3 -m pip install tensorflow ```\n",
    "\n",
    "```conda install nb_conda```\n",
    "\n",
    "Finally, load the notebook:\n",
    "\n",
    "```jupyter notebook```\n",
    "\n",
    "Navigate to this notebook and load it up!"
   ]
  },
  {
   "cell_type": "code",
   "execution_count": 2,
   "metadata": {},
   "outputs": [],
   "source": [
    "import tensorflow"
   ]
  },
  {
   "cell_type": "code",
   "execution_count": null,
   "metadata": {},
   "outputs": [],
   "source": []
  }
 ],
 "metadata": {
  "kernelspec": {
   "display_name": "Python [conda env:test] *",
   "language": "python",
   "name": "conda-env-test-py"
  },
  "language_info": {
   "codemirror_mode": {
    "name": "ipython",
    "version": 3
   },
   "file_extension": ".py",
   "mimetype": "text/x-python",
   "name": "python",
   "nbconvert_exporter": "python",
   "pygments_lexer": "ipython3",
   "version": "3.7.3"
  }
 },
 "nbformat": 4,
 "nbformat_minor": 2
}
